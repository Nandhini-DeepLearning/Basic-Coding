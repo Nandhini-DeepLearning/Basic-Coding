{
  "nbformat": 4,
  "nbformat_minor": 0,
  "metadata": {
    "colab": {
      "provenance": [],
      "gpuType": "T4"
    },
    "kernelspec": {
      "name": "python3",
      "display_name": "Python 3"
    },
    "language_info": {
      "name": "python"
    },
    "accelerator": "GPU"
  },
  "cells": [
    {
      "cell_type": "code",
      "execution_count": 3,
      "metadata": {
        "id": "ZH2ju1A_5Bwa"
      },
      "outputs": [],
      "source": [
        "import tensorflow as tf\n",
        "import matplotlib.pyplot as plt\n",
        "import numpy as np\n",
        "\n",
        "(x_train, y_train),(x_test, y_test) =  tf.keras.datasets.cifar10.load_data()\n"
      ]
    },
    {
      "cell_type": "code",
      "source": [
        "x_train = tf.keras.utils.normalize(x_train, axis = 3)\n",
        "x_test = tf.keras.utils.normalize(x_test, axis = 3)"
      ],
      "metadata": {
        "id": "ENaITf0g5-yi"
      },
      "execution_count": 2,
      "outputs": []
    },
    {
      "cell_type": "code",
      "source": [
        "x_train = x_train/255\n",
        "x_test = x_test/255"
      ],
      "metadata": {
        "id": "s8cl-122rYQP"
      },
      "execution_count": 5,
      "outputs": []
    },
    {
      "cell_type": "code",
      "source": [
        "y_train = tf.keras.utils.to_categorical(y_train, num_classes=10, dtype = 'float32')\n",
        "y_test = tf.keras.utils.to_categorical(y_test, num_classes=10, dtype = 'float32')"
      ],
      "metadata": {
        "id": "Cc9Y7voFk7QU"
      },
      "execution_count": 4,
      "outputs": []
    },
    {
      "cell_type": "code",
      "source": [
        "model = tf.keras.Sequential()\n",
        "model.add(tf.keras.layers.Flatten(input_shape = (32,32, 3)))\n",
        "model.add(tf.keras.layers.Dense(3000,activation = 'relu'))\n",
        "model.add(tf.keras.layers.Dense(1000,activation = 'relu'))\n",
        "model.add(tf.keras.layers.Dense(10,activation = 'softmax'))\n",
        "model.compile(optimizer = 'SGD', loss = 'categorical_crossentropy', metrics=['accuracy'])\n",
        "model.fit(x_train, y_train, epochs = 100)\n",
        ""
      ],
      "metadata": {
        "colab": {
          "base_uri": "https://localhost:8080/"
        },
        "id": "G3sWjJYE6iiQ",
        "outputId": "a3dbbc19-89fb-47da-fff6-25b29d09b233"
      },
      "execution_count": 6,
      "outputs": [
        {
          "output_type": "stream",
          "name": "stdout",
          "text": [
            "Epoch 1/100\n",
            "1563/1563 [==============================] - 12s 4ms/step - loss: 1.8125 - accuracy: 0.3523\n",
            "Epoch 2/100\n",
            "1563/1563 [==============================] - 7s 4ms/step - loss: 1.6251 - accuracy: 0.4248\n",
            "Epoch 3/100\n",
            "1563/1563 [==============================] - 7s 4ms/step - loss: 1.5419 - accuracy: 0.4553\n",
            "Epoch 4/100\n",
            "1563/1563 [==============================] - 7s 4ms/step - loss: 1.4852 - accuracy: 0.4757\n",
            "Epoch 5/100\n",
            "1563/1563 [==============================] - 7s 4ms/step - loss: 1.4335 - accuracy: 0.4945\n",
            "Epoch 6/100\n",
            "1563/1563 [==============================] - 7s 5ms/step - loss: 1.3913 - accuracy: 0.5105\n",
            "Epoch 7/100\n",
            "1563/1563 [==============================] - 7s 5ms/step - loss: 1.3534 - accuracy: 0.5245\n",
            "Epoch 8/100\n",
            "1563/1563 [==============================] - 7s 5ms/step - loss: 1.3195 - accuracy: 0.5371\n",
            "Epoch 9/100\n",
            "1563/1563 [==============================] - 7s 4ms/step - loss: 1.2876 - accuracy: 0.5472\n",
            "Epoch 10/100\n",
            "1563/1563 [==============================] - 7s 4ms/step - loss: 1.2552 - accuracy: 0.5589\n",
            "Epoch 11/100\n",
            "1563/1563 [==============================] - 8s 5ms/step - loss: 1.2254 - accuracy: 0.5715\n",
            "Epoch 12/100\n",
            "1563/1563 [==============================] - 7s 4ms/step - loss: 1.1988 - accuracy: 0.5800\n",
            "Epoch 13/100\n",
            "1563/1563 [==============================] - 7s 4ms/step - loss: 1.1681 - accuracy: 0.5922\n",
            "Epoch 14/100\n",
            "1563/1563 [==============================] - 7s 4ms/step - loss: 1.1418 - accuracy: 0.6027\n",
            "Epoch 15/100\n",
            "1563/1563 [==============================] - 7s 4ms/step - loss: 1.1141 - accuracy: 0.6107\n",
            "Epoch 16/100\n",
            "1563/1563 [==============================] - 7s 4ms/step - loss: 1.0861 - accuracy: 0.6213\n",
            "Epoch 17/100\n",
            "1563/1563 [==============================] - 7s 5ms/step - loss: 1.0599 - accuracy: 0.6291\n",
            "Epoch 18/100\n",
            "1563/1563 [==============================] - 7s 4ms/step - loss: 1.0348 - accuracy: 0.6390\n",
            "Epoch 19/100\n",
            "1563/1563 [==============================] - 7s 5ms/step - loss: 1.0090 - accuracy: 0.6488\n",
            "Epoch 20/100\n",
            "1563/1563 [==============================] - 7s 4ms/step - loss: 0.9844 - accuracy: 0.6580\n",
            "Epoch 21/100\n",
            "1563/1563 [==============================] - 7s 4ms/step - loss: 0.9612 - accuracy: 0.6676\n",
            "Epoch 22/100\n",
            "1563/1563 [==============================] - 7s 4ms/step - loss: 0.9315 - accuracy: 0.6753\n",
            "Epoch 23/100\n",
            "1563/1563 [==============================] - 7s 4ms/step - loss: 0.9047 - accuracy: 0.6855\n",
            "Epoch 24/100\n",
            "1563/1563 [==============================] - 7s 5ms/step - loss: 0.8795 - accuracy: 0.6962\n",
            "Epoch 25/100\n",
            "1563/1563 [==============================] - 7s 4ms/step - loss: 0.8533 - accuracy: 0.7047\n",
            "Epoch 26/100\n",
            "1563/1563 [==============================] - 7s 5ms/step - loss: 0.8280 - accuracy: 0.7169\n",
            "Epoch 27/100\n",
            "1563/1563 [==============================] - 7s 4ms/step - loss: 0.8075 - accuracy: 0.7216\n",
            "Epoch 28/100\n",
            "1563/1563 [==============================] - 7s 4ms/step - loss: 0.7801 - accuracy: 0.7328\n",
            "Epoch 29/100\n",
            "1563/1563 [==============================] - 7s 4ms/step - loss: 0.7534 - accuracy: 0.7427\n",
            "Epoch 30/100\n",
            "1563/1563 [==============================] - 7s 4ms/step - loss: 0.7290 - accuracy: 0.7533\n",
            "Epoch 31/100\n",
            "1563/1563 [==============================] - 7s 4ms/step - loss: 0.7031 - accuracy: 0.7597\n",
            "Epoch 32/100\n",
            "1563/1563 [==============================] - 7s 4ms/step - loss: 0.6789 - accuracy: 0.7687\n",
            "Epoch 33/100\n",
            "1563/1563 [==============================] - 7s 4ms/step - loss: 0.6524 - accuracy: 0.7817\n",
            "Epoch 34/100\n",
            "1563/1563 [==============================] - 7s 4ms/step - loss: 0.6283 - accuracy: 0.7869\n",
            "Epoch 35/100\n",
            "1563/1563 [==============================] - 7s 5ms/step - loss: 0.6042 - accuracy: 0.7971\n",
            "Epoch 36/100\n",
            "1563/1563 [==============================] - 7s 4ms/step - loss: 0.5793 - accuracy: 0.8072\n",
            "Epoch 37/100\n",
            "1563/1563 [==============================] - 7s 4ms/step - loss: 0.5567 - accuracy: 0.8150\n",
            "Epoch 38/100\n",
            "1563/1563 [==============================] - 7s 4ms/step - loss: 0.5306 - accuracy: 0.8253\n",
            "Epoch 39/100\n",
            "1563/1563 [==============================] - 7s 4ms/step - loss: 0.5103 - accuracy: 0.8311\n",
            "Epoch 40/100\n",
            "1563/1563 [==============================] - 7s 4ms/step - loss: 0.4863 - accuracy: 0.8410\n",
            "Epoch 41/100\n",
            "1563/1563 [==============================] - 7s 4ms/step - loss: 0.4665 - accuracy: 0.8471\n",
            "Epoch 42/100\n",
            "1563/1563 [==============================] - 7s 5ms/step - loss: 0.4433 - accuracy: 0.8570\n",
            "Epoch 43/100\n",
            "1563/1563 [==============================] - 7s 4ms/step - loss: 0.4227 - accuracy: 0.8642\n",
            "Epoch 44/100\n",
            "1563/1563 [==============================] - 7s 4ms/step - loss: 0.4024 - accuracy: 0.8719\n",
            "Epoch 45/100\n",
            "1563/1563 [==============================] - 7s 4ms/step - loss: 0.3825 - accuracy: 0.8805\n",
            "Epoch 46/100\n",
            "1563/1563 [==============================] - 7s 4ms/step - loss: 0.3652 - accuracy: 0.8862\n",
            "Epoch 47/100\n",
            "1563/1563 [==============================] - 7s 4ms/step - loss: 0.3426 - accuracy: 0.8956\n",
            "Epoch 48/100\n",
            "1563/1563 [==============================] - 7s 4ms/step - loss: 0.3245 - accuracy: 0.9006\n",
            "Epoch 49/100\n",
            "1563/1563 [==============================] - 7s 5ms/step - loss: 0.3085 - accuracy: 0.9058\n",
            "Epoch 50/100\n",
            "1563/1563 [==============================] - 7s 4ms/step - loss: 0.2910 - accuracy: 0.9139\n",
            "Epoch 51/100\n",
            "1563/1563 [==============================] - 7s 5ms/step - loss: 0.2755 - accuracy: 0.9181\n",
            "Epoch 52/100\n",
            "1563/1563 [==============================] - 7s 4ms/step - loss: 0.2565 - accuracy: 0.9267\n",
            "Epoch 53/100\n",
            "1563/1563 [==============================] - 7s 4ms/step - loss: 0.2446 - accuracy: 0.9283\n",
            "Epoch 54/100\n",
            "1563/1563 [==============================] - 7s 4ms/step - loss: 0.2310 - accuracy: 0.9347\n",
            "Epoch 55/100\n",
            "1563/1563 [==============================] - 7s 4ms/step - loss: 0.2180 - accuracy: 0.9384\n",
            "Epoch 56/100\n",
            "1563/1563 [==============================] - 7s 4ms/step - loss: 0.2055 - accuracy: 0.9429\n",
            "Epoch 57/100\n",
            "1563/1563 [==============================] - 7s 4ms/step - loss: 0.1901 - accuracy: 0.9487\n",
            "Epoch 58/100\n",
            "1563/1563 [==============================] - 7s 5ms/step - loss: 0.1760 - accuracy: 0.9537\n",
            "Epoch 59/100\n",
            "1563/1563 [==============================] - 7s 4ms/step - loss: 0.1678 - accuracy: 0.9574\n",
            "Epoch 60/100\n",
            "1563/1563 [==============================] - 7s 4ms/step - loss: 0.1557 - accuracy: 0.9605\n",
            "Epoch 61/100\n",
            "1563/1563 [==============================] - 7s 4ms/step - loss: 0.1453 - accuracy: 0.9635\n",
            "Epoch 62/100\n",
            "1563/1563 [==============================] - 7s 4ms/step - loss: 0.1366 - accuracy: 0.9665\n",
            "Epoch 63/100\n",
            "1563/1563 [==============================] - 7s 4ms/step - loss: 0.1251 - accuracy: 0.9709\n",
            "Epoch 64/100\n",
            "1563/1563 [==============================] - 7s 4ms/step - loss: 0.1157 - accuracy: 0.9733\n",
            "Epoch 65/100\n",
            "1563/1563 [==============================] - 7s 4ms/step - loss: 0.1047 - accuracy: 0.9781\n",
            "Epoch 66/100\n",
            "1563/1563 [==============================] - 7s 4ms/step - loss: 0.0985 - accuracy: 0.9795\n",
            "Epoch 67/100\n",
            "1563/1563 [==============================] - 7s 5ms/step - loss: 0.0921 - accuracy: 0.9809\n",
            "Epoch 68/100\n",
            "1563/1563 [==============================] - 7s 4ms/step - loss: 0.0841 - accuracy: 0.9834\n",
            "Epoch 69/100\n",
            "1563/1563 [==============================] - 7s 5ms/step - loss: 0.0805 - accuracy: 0.9841\n",
            "Epoch 70/100\n",
            "1563/1563 [==============================] - 7s 4ms/step - loss: 0.0742 - accuracy: 0.9861\n",
            "Epoch 71/100\n",
            "1563/1563 [==============================] - 7s 4ms/step - loss: 0.0681 - accuracy: 0.9880\n",
            "Epoch 72/100\n",
            "1563/1563 [==============================] - 7s 5ms/step - loss: 0.0631 - accuracy: 0.9887\n",
            "Epoch 73/100\n",
            "1563/1563 [==============================] - 7s 4ms/step - loss: 0.0570 - accuracy: 0.9907\n",
            "Epoch 74/100\n",
            "1563/1563 [==============================] - 7s 5ms/step - loss: 0.0574 - accuracy: 0.9904\n",
            "Epoch 75/100\n",
            "1563/1563 [==============================] - 7s 4ms/step - loss: 0.0501 - accuracy: 0.9924\n",
            "Epoch 76/100\n",
            "1563/1563 [==============================] - 7s 4ms/step - loss: 0.0527 - accuracy: 0.9914\n",
            "Epoch 77/100\n",
            "1563/1563 [==============================] - 7s 4ms/step - loss: 0.0448 - accuracy: 0.9938\n",
            "Epoch 78/100\n",
            "1563/1563 [==============================] - 7s 4ms/step - loss: 0.0386 - accuracy: 0.9951\n",
            "Epoch 79/100\n",
            "1563/1563 [==============================] - 7s 4ms/step - loss: 0.0363 - accuracy: 0.9953\n",
            "Epoch 80/100\n",
            "1563/1563 [==============================] - 7s 4ms/step - loss: 0.0576 - accuracy: 0.9900\n",
            "Epoch 81/100\n",
            "1563/1563 [==============================] - 7s 4ms/step - loss: 0.0329 - accuracy: 0.9960\n",
            "Epoch 82/100\n",
            "1563/1563 [==============================] - 7s 4ms/step - loss: 0.0302 - accuracy: 0.9965\n",
            "Epoch 83/100\n",
            "1563/1563 [==============================] - 7s 4ms/step - loss: 0.0279 - accuracy: 0.9972\n",
            "Epoch 84/100\n",
            "1563/1563 [==============================] - 7s 4ms/step - loss: 0.0256 - accuracy: 0.9976\n",
            "Epoch 85/100\n",
            "1563/1563 [==============================] - 7s 4ms/step - loss: 0.0249 - accuracy: 0.9975\n",
            "Epoch 86/100\n",
            "1563/1563 [==============================] - 7s 4ms/step - loss: 0.0279 - accuracy: 0.9967\n",
            "Epoch 87/100\n",
            "1563/1563 [==============================] - 7s 4ms/step - loss: 0.0203 - accuracy: 0.9985\n",
            "Epoch 88/100\n",
            "1563/1563 [==============================] - 7s 4ms/step - loss: 0.0195 - accuracy: 0.9985\n",
            "Epoch 89/100\n",
            "1563/1563 [==============================] - 7s 4ms/step - loss: 0.0198 - accuracy: 0.9984\n",
            "Epoch 90/100\n",
            "1563/1563 [==============================] - 7s 4ms/step - loss: 0.0169 - accuracy: 0.9990\n",
            "Epoch 91/100\n",
            "1563/1563 [==============================] - 7s 4ms/step - loss: 0.0162 - accuracy: 0.9991\n",
            "Epoch 92/100\n",
            "1563/1563 [==============================] - 7s 5ms/step - loss: 0.0162 - accuracy: 0.9990\n",
            "Epoch 93/100\n",
            "1563/1563 [==============================] - 7s 4ms/step - loss: 0.0148 - accuracy: 0.9992\n",
            "Epoch 94/100\n",
            "1563/1563 [==============================] - 7s 4ms/step - loss: 0.0142 - accuracy: 0.9991\n",
            "Epoch 95/100\n",
            "1563/1563 [==============================] - 7s 4ms/step - loss: 0.0131 - accuracy: 0.9994\n",
            "Epoch 96/100\n",
            "1563/1563 [==============================] - 8s 5ms/step - loss: 0.0118 - accuracy: 0.9996\n",
            "Epoch 97/100\n",
            "1563/1563 [==============================] - 7s 4ms/step - loss: 0.0127 - accuracy: 0.9994\n",
            "Epoch 98/100\n",
            "1563/1563 [==============================] - 7s 4ms/step - loss: 0.0115 - accuracy: 0.9996\n",
            "Epoch 99/100\n",
            "1563/1563 [==============================] - 7s 4ms/step - loss: 0.0108 - accuracy: 0.9996\n",
            "Epoch 100/100\n",
            "1563/1563 [==============================] - 7s 4ms/step - loss: 0.0103 - accuracy: 0.9997\n"
          ]
        },
        {
          "output_type": "execute_result",
          "data": {
            "text/plain": [
              "<keras.src.callbacks.History at 0x78d8a9f1bfa0>"
            ]
          },
          "metadata": {},
          "execution_count": 6
        }
      ]
    },
    {
      "cell_type": "code",
      "source": [],
      "metadata": {
        "id": "Fz_G5Wpvviaq"
      },
      "execution_count": null,
      "outputs": []
    },
    {
      "cell_type": "code",
      "source": [
        "cnn_model = tf.keras.Sequential()\n",
        "cnn_model.add(tf.keras.layers.Conv2D(filters=32, kernel_size = (3,3), activation = 'relu', input_shape = (32,32,3)))\n",
        "cnn_model.add(tf.keras.layers.MaxPooling2D(2,2))\n",
        "cnn_model.add(tf.keras.layers.Conv2D(filters = 32, kernel_size = (3,3), activation = 'relu' ))\n",
        "cnn_model.add(tf.keras.layers.MaxPooling2D(2,2))\n",
        "cnn_model.add(tf.keras.layers.Flatten())\n",
        "cnn_model.add(tf.keras.layers.Dense(1000, activation = 'relu'))\n",
        "cnn_model.add(tf.keras.layers.Dense(1000, activation = 'relu'))\n",
        "cnn_model.add(tf.keras.layers.Dense(1000, activation = 'relu'))\n",
        "cnn_model.add(tf.keras.layers.Dense(10, activation = 'softmax'))\n",
        "cnn_model.compile(optimizer='adam', loss = 'sparse_categorical_crossentropy', metrics=['accuracy'])\n",
        "cnn_model.fit(x_train, y_train, epochs = 10)"
      ],
      "metadata": {
        "id": "AtZWuaNF83yG"
      },
      "execution_count": null,
      "outputs": []
    },
    {
      "cell_type": "code",
      "source": [],
      "metadata": {
        "id": "Wp5RyopvCnaX"
      },
      "execution_count": null,
      "outputs": []
    }
  ]
}